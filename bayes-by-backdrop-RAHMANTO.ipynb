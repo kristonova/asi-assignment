{
 "cells": [
  {
   "cell_type": "markdown",
   "metadata": {
    "colab_type": "text",
    "id": "JbQWL5WznhJS"
   },
   "source": [
    "# Bayes by Backprop - RAHMANTO\n",
    "**By: Krisostomus Nova RAHMANTO**\n",
    "\n",
    "An implementation of the paper Weight Uncertainty in Neural Networks (Blundell et al, 2015). \n",
    "\n"
   ]
  },
  {
   "cell_type": "markdown",
   "metadata": {},
   "source": [
    "# 0) Library Imports and Environment Preparation\n",
    "\n",
    "This initial code block performs several essential setup tasks required for implementing and analyzing the Bayes by Backprop algorithm in PyTorch. The focus here is on enabling visualization, configuring the neural network framework, and setting up tools for tracking experiments."
   ]
  },
  {
   "cell_type": "markdown",
   "metadata": {},
   "source": [
    "### Mathematical and plotting libraries:\n",
    "- `math`, `numpy`: Standard Python libraries for numerical operations.\n",
    "- `matplotlib.pyplot`, `seaborn`: Used for data visualization. seaborn is set up with a muted, dark-themed aesthetic.\n",
    "### PyTorch libraries:\n",
    "- `torch`, `torch.nn`, `torch.nn.functional`, and `torch.optim` are used for constructing and training the neural network models.\n",
    "### TorchVision:\n",
    "- `datasets` and `transforms` allow access to common datasets (e.g., MNIST) and image preprocessing tools.\n",
    "- `make_grid` is useful for visualizing tensors as image grids.\n",
    "### TensorBoardX:\n",
    "- `SummaryWriter` allows logging of scalar values, histograms, and images for visualization in TensorBoard.\n",
    "### Progress bar utilities:\n",
    "- `tqdm` and `trange` enable progress tracking for loops, useful during model training or data loading."
   ]
  },
  {
   "cell_type": "code",
   "execution_count": 15,
   "metadata": {
    "colab": {
     "autoexec": {
      "startup": false,
      "wait_interval": 0
     }
    },
    "colab_type": "code",
    "id": "yNGUXrL_osEt"
   },
   "outputs": [],
   "source": [
    "%matplotlib inline\n",
    "import math\n",
    "import matplotlib.pyplot as plt\n",
    "import numpy as np\n",
    "import seaborn as sns\n",
    "import torch\n",
    "import torch.nn as nn\n",
    "import torch.nn.functional as F\n",
    "import torch.optim as optim\n",
    "\n",
    "from tensorboardX import SummaryWriter\n",
    "from torchvision import datasets, transforms\n",
    "from torchvision.utils import make_grid\n",
    "from tqdm import tqdm, trange\n",
    "\n",
    "writer = SummaryWriter()\n",
    "sns.set()\n",
    "sns.set_style(\"dark\")\n",
    "sns.set_palette(\"muted\")\n",
    "sns.set_color_codes(\"muted\")"
   ]
  },
  {
   "cell_type": "markdown",
   "metadata": {},
   "source": [
    "The code below configures the training device to use a GPU if available, otherwise defaults to the CPU. It also sets data loader options optimized for GPU usage, such as pinning memory and using worker threads. A print statement confirms whether CUDA (GPU support) is available on the system."
   ]
  },
  {
   "cell_type": "code",
   "execution_count": 16,
   "metadata": {
    "colab": {
     "autoexec": {
      "startup": false,
      "wait_interval": 0
     },
     "base_uri": "https://localhost:8080/",
     "height": 34
    },
    "colab_type": "code",
    "executionInfo": {
     "elapsed": 397,
     "status": "ok",
     "timestamp": 1528263793235,
     "user": {
      "displayName": "Nitarshan Rajkumar",
      "photoUrl": "//lh6.googleusercontent.com/-oLz5q0aJmAQ/AAAAAAAAAAI/AAAAAAAAAIY/O0-NjvATt18/s50-c-k-no/photo.jpg",
      "userId": "117587045527370134083"
     },
     "user_tz": 420
    },
    "id": "oGXTNl-Vt7PF",
    "outputId": "d53f7e66-2071-43f4-ac11-9589ba4846c2"
   },
   "outputs": [
    {
     "name": "stdout",
     "output_type": "stream",
     "text": [
      "False\n"
     ]
    }
   ],
   "source": [
    "DEVICE = torch.device(\"cuda\" if torch.cuda.is_available() else \"cpu\")\n",
    "LOADER_KWARGS = {'num_workers': 1, 'pin_memory': True} if torch.cuda.is_available() else {}\n",
    "print(torch.cuda.is_available())"
   ]
  },
  {
   "cell_type": "markdown",
   "metadata": {
    "colab_type": "text",
    "id": "-N2EKVF_muVQ"
   },
   "source": [
    "# 1) Data Preparation\n",
    "Next, we loads the FashionMNIST dataset and prepares it for training and testing. Data is batched using DataLoader with a batch size of 100 for training and 5 for testing, along with transformation to tensors. Several key constants are also defined, including dataset sizes, number of epochs, and the number of Monte Carlo samples used during training and testing, with assertions ensuring divisibility for clean batching."
   ]
  },
  {
   "cell_type": "code",
   "execution_count": 35,
   "metadata": {
    "colab": {
     "autoexec": {
      "startup": false,
      "wait_interval": 0
     }
    },
    "colab_type": "code",
    "id": "SMzSB6ebovaD"
   },
   "outputs": [],
   "source": [
    "BATCH_SIZE = 100\n",
    "TEST_BATCH_SIZE = 5\n",
    "\n",
    "train_loader = torch.utils.data.DataLoader(\n",
    "    datasets.FashionMNIST(\n",
    "        './fmnist', train=True, download=True,\n",
    "        transform=transforms.ToTensor()),\n",
    "    batch_size=BATCH_SIZE, shuffle=True, **LOADER_KWARGS)\n",
    "test_loader = torch.utils.data.DataLoader(\n",
    "    datasets.FashionMNIST(\n",
    "        './fmnist', train=False, download=True,\n",
    "        transform=transforms.ToTensor()),\n",
    "    batch_size=TEST_BATCH_SIZE, shuffle=False, **LOADER_KWARGS)\n",
    "\n",
    "TRAIN_SIZE = len(train_loader.dataset)\n",
    "TEST_SIZE = len(test_loader.dataset)\n",
    "NUM_BATCHES = len(train_loader)\n",
    "NUM_TEST_BATCHES = len(test_loader)\n",
    "\n",
    "CLASSES = 10\n",
    "TRAIN_EPOCHS = 20\n",
    "SAMPLES = 2\n",
    "TEST_SAMPLES = 10\n",
    "\n",
    "assert (TRAIN_SIZE % BATCH_SIZE) == 0\n",
    "assert (TEST_SIZE % TEST_BATCH_SIZE) == 0"
   ]
  },
  {
   "cell_type": "markdown",
   "metadata": {
    "colab_type": "text",
    "id": "3hkpPckMmRUR"
   },
   "source": [
    "# 2) Modelling\n",
    "In this part, we implement Gaussian class that defines a reparameterized diagonal Gaussian distribution used to model the variational posterior over neural network weights in Bayes by Backprop. This class operationalizes the mathematical formulation of variational inference as follows:\n",
    "\n",
    "#### Mathematical Foundation\n",
    "- 1. The variational parameters are defined as:\n",
    "$$\\begin{aligned}\n",
    "\\theta &= (\\mu, \\rho)\\\\\n",
    "\\sigma &= \\ln{(1+e^\\rho)}\\\\\n",
    "\\end{aligned}$$\n",
    "This “softplus” transformation ensures that the standard deviation σ remains positive and differentiable.\n",
    "- 2. The density function of a univariate normal distribution:\n",
    "\n",
    "$$\\begin{aligned}\n",
    "\\mathcal{N}(x\\vert \\mu, \\sigma) &= \\frac{1}{\\sqrt{2\\pi}\\sigma}e^{-\\frac{(x-\\mu)^2}{2\\sigma^2}}\\\\\n",
    "\\end{aligned}$$\n",
    "- 3. Taking the logarithm: \n",
    "$$\\begin{aligned}\n",
    "\\ln{\\mathcal{N}(x\\vert \\mu, \\sigma)} &= -\\ln{\\sqrt{2\\pi}} -\\ln{\\sigma} -\\frac{(x-\\mu)^2}{2\\sigma^2}\\\\\n",
    "\\end{aligned}$$\n",
    "- 4.\tFor weight priors:\n",
    "\n",
    "$$\\begin{aligned}\n",
    "P(\\mathbf{w}) &= \\prod_j{\\mathcal{N}(\\mathbf{w}_j \\vert 0, \\sigma^2)}\\\\\n",
    "\\ln{P(\\mathbf{w})} &= \\sum_j{\\ln{\\mathcal{N}(\\mathbf{w}_j \\vert 0, \\sigma^2)}}\\\\\n",
    "\\end{aligned}$$"
   ]
  },
  {
   "cell_type": "code",
   "execution_count": 36,
   "metadata": {
    "colab": {
     "autoexec": {
      "startup": false,
      "wait_interval": 0
     }
    },
    "colab_type": "code",
    "id": "q9-GjqfnozFI"
   },
   "outputs": [],
   "source": [
    "class Gaussian(object):\n",
    "    def __init__(self, mu, rho):\n",
    "        super().__init__()\n",
    "        self.mu = mu\n",
    "        self.rho = rho\n",
    "        self.normal = torch.distributions.Normal(0,1)\n",
    "    \n",
    "    @property\n",
    "    def sigma(self):\n",
    "        return torch.log1p(torch.exp(self.rho))\n",
    "    \n",
    "    def sample(self):\n",
    "        epsilon = self.normal.sample(self.rho.size()).to(DEVICE)\n",
    "        return self.mu + self.sigma * epsilon\n",
    "    \n",
    "    def log_prob(self, input):\n",
    "        return (-math.log(math.sqrt(2 * math.pi))\n",
    "                - torch.log(self.sigma)\n",
    "                - ((input - self.mu) ** 2) / (2 * self.sigma ** 2)).sum()"
   ]
  },
  {
   "cell_type": "markdown",
   "metadata": {
    "colab_type": "text",
    "id": "bezhA1xVntod"
   },
   "source": [
    "Next, we defined Scale Mixture Gaussian Prior class. The class below implements the Scale Mixture Gaussian prior as proposed in the Bayes by Backprop paper, enabling a more expressive prior distribution for regularizing neural network weights.\n",
    "\n",
    "The prior over the weights w is modeled as a mixture of two zero-mean Gaussian distributions with different variances:\n",
    "$$\\begin{align}\n",
    "P(\\mathbf{w}) &= \\prod_j{\\pi \\mathcal{N}(\\mathbf{w}_j \\vert 0, \\sigma_1^2) + (1-\\pi) \\mathcal{N}(\\mathbf{w}_j \\vert 0, \\sigma_2^2)}\\\\\n",
    "\\end{align}$$\n",
    "Taking the logarithm of the full prior:\n",
    "\n",
    "$$\\begin{align}\n",
    "\\ln{P(\\mathbf{w})} &= \\sum_j{\\ln{(\\pi \\mathcal{N}(\\mathbf{w}_j \\vert 0, \\sigma_1^2) + (1-\\pi) \\mathcal{N}(\\mathbf{w}_j \\vert 0, \\sigma_2^2))}}\\\\\n",
    "\\end{align}$$\n",
    "\n",
    "This mixture prior is a critical component in making Bayes by Backprop more robust to overfitting and better able to induce sparsity in neural network weights.\n"
   ]
  },
  {
   "cell_type": "code",
   "execution_count": 37,
   "metadata": {
    "colab": {
     "autoexec": {
      "startup": false,
      "wait_interval": 0
     }
    },
    "colab_type": "code",
    "id": "L3wQlWNVo3S_"
   },
   "outputs": [],
   "source": [
    "class ScaleMixtureGaussian(object):\n",
    "    def __init__(self, pi, sigma1, sigma2):\n",
    "        super().__init__()\n",
    "        self.pi = pi\n",
    "        self.sigma1 = sigma1\n",
    "        self.sigma2 = sigma2\n",
    "        self.gaussian1 = torch.distributions.Normal(0,sigma1)\n",
    "        self.gaussian2 = torch.distributions.Normal(0,sigma2)\n",
    "    \n",
    "    def log_prob(self, input):\n",
    "        prob1 = torch.exp(self.gaussian1.log_prob(input))\n",
    "        prob2 = torch.exp(self.gaussian2.log_prob(input))\n",
    "        return (torch.log(self.pi * prob1 + (1-self.pi) * prob2)).sum()"
   ]
  },
  {
   "cell_type": "markdown",
   "metadata": {
    "colab_type": "text",
    "id": "jwvLm9zGl3N7"
   },
   "source": [
    "Now, we are implementing function for Vvsualization of Scale Mixture Gaussian Components. The function below provides a visual comparison of the probability density functions (PDFs) of the scale mixture Gaussian prior and its two Gaussian components. The visualization aids in understanding how the prior encourages sparsity by combining a broad and a narrow Gaussian. \n",
    "\n",
    "Given:\n",
    "$$\\pi = \\frac{1}{2}$$\n",
    "$$-\\ln{\\sigma_1} = 0$$\n",
    "$$-\\ln{\\sigma_2} = 6$$\n",
    "\n",
    "The prior is defined as:\n",
    "$$P(w) = \\pi \\cdot \\mathcal{N}(w|0, \\sigma_1^2) + (1 - \\pi) \\cdot \\mathcal{N}(w|0, \\sigma_2^2)$$\n",
    "\n",
    "This mixture produces a heavy-tailed distribution with a sharp peak at zero, promoting sparsity in learned weights."
   ]
  },
  {
   "cell_type": "code",
   "execution_count": 38,
   "metadata": {
    "colab": {
     "autoexec": {
      "startup": false,
      "wait_interval": 0
     },
     "base_uri": "https://localhost:8080/",
     "height": 269
    },
    "colab_type": "code",
    "executionInfo": {
     "elapsed": 31782,
     "status": "ok",
     "timestamp": 1528263837119,
     "user": {
      "displayName": "Nitarshan Rajkumar",
      "photoUrl": "//lh6.googleusercontent.com/-oLz5q0aJmAQ/AAAAAAAAAAI/AAAAAAAAAIY/O0-NjvATt18/s50-c-k-no/photo.jpg",
      "userId": "117587045527370134083"
     },
     "user_tz": 420
    },
    "id": "fzTq5zWgo5p8",
    "outputId": "cc845c99-ce8d-4cbe-f79a-c0fd4ee72e63"
   },
   "outputs": [
    {
     "data": {
      "image/png": "[encoded data removed]",
      "text/plain": [
       "<Figure size 1400x400 with 3 Axes>"
      ]
     },
     "metadata": {},
     "output_type": "display_data"
    }
   ],
   "source": [
    "PI = 0.5\n",
    "SIGMA_1 = torch.FloatTensor([math.exp(-0)])\n",
    "SIGMA_2 = torch.FloatTensor([math.exp(-6)])\n",
    "\n",
    "def visualize_scale_mixture_components():\n",
    "    def show_lines():\n",
    "        pass\n",
    "    mix = ScaleMixtureGaussian(PI, SIGMA_1, SIGMA_2)\n",
    "    normal_1 = torch.distributions.Normal(0, SIGMA_1)\n",
    "    normal_2 = torch.distributions.Normal(0, SIGMA_2)\n",
    "    x_points = np.linspace(-5, 5, 10000)\n",
    "    d1 = np.array([torch.exp(normal_1.log_prob(torch.tensor(c))) for c in x_points])\n",
    "    d2 = np.array([torch.exp(normal_2.log_prob(torch.tensor(c))) for c in x_points])\n",
    "    d3 = np.array([torch.exp(mix.log_prob(torch.tensor(c))) for c in x_points])\n",
    "    plt.subplots(1, 3, figsize=(14, 4))\n",
    "    plt.subplot(1, 3, 1)\n",
    "    plt.plot(x_points, d2, color=\"g\")\n",
    "    plt.plot(x_points, d3, color=\"r\")\n",
    "    plt.plot(x_points, d1, color=\"b\")\n",
    "    plt.legend([\"sigma2\", \"mix\", \"sigma1\"])\n",
    "    plt.ylim(0, 0.5)\n",
    "    plt.subplot(1, 3, 2)\n",
    "    plt.plot(x_points, d1, color=\"b\")\n",
    "    plt.plot(x_points, d2, color=\"g\")\n",
    "    plt.plot(x_points, d3, color=\"r\")\n",
    "    plt.legend([\"sigma1\", \"sigma2\", \"mix\"])\n",
    "    plt.ylim(0, 160)\n",
    "    plt.subplot(1, 3, 3)\n",
    "    plt.plot(x_points, d2, color=\"g\")\n",
    "    plt.plot(x_points, d3, color=\"r\")\n",
    "    plt.plot(x_points, d1, color=\"b\")\n",
    "    plt.legend([\"sigma2\", \"mix\", \"sigma1\"])\n",
    "    plt.ylim(0, 80)\n",
    "\n",
    "visualize_scale_mixture_components()\n"
   ]
  },
  {
   "cell_type": "markdown",
   "metadata": {},
   "source": [
    "Result from plot above:\n",
    "\n",
    "- **Left Plot**: Displays the probability densities of the two Gaussian components (sigma1 wide, sigma2 narrow) and their mixture. The mixture shows a central spike and moderate tails, demonstrating a balance between sparsity and flexibility.\n",
    "\n",
    "- **Middle Plot**: The y-axis is stretched to reveal the extremely high peak of the narrow Gaussian (sigma2). This emphasizes its dominant influence near zero in the mixture distribution.\n",
    "\n",
    "-  **Right Plot**: Shows the mixture prior’s spike at zero and moderately visible tails from the wide component. This illustrates how the mixture mimics a spike-and-slab prior for regularizing weights."
   ]
  },
  {
   "cell_type": "markdown",
   "metadata": {},
   "source": [
    "After that, below we could see  a **Bayesian linear (fully connected) layer** class, which the models its weights and biases as **probability distributions** instead of fixed values, enabling **uncertainty estimation** and **regularization via variational inference**. Key Components:\n",
    "\n",
    "- **Parameters as Distributions**  \n",
    "  Each weight and bias is parameterized using a **Gaussian variational posterior** (defined by `mu` and `rho`) and associated with a **scale mixture Gaussian prior** for computing the KL divergence term.\n",
    "\n",
    "- **Variational Sampling (Reparameterization Trick)**  \n",
    "  During training or when `sample=True`, the layer samples weights and biases from their posterior distributions:\n",
    "  \\[\n",
    "  w = \\mu_w + \\sigma_w \\cdot \\epsilon, \\quad b = \\mu_b + \\sigma_b \\cdot \\epsilon\n",
    "  \\]\n",
    "  During inference (`sample=False`), the **deterministic mean values** (`mu`) are used.\n",
    "\n",
    "- **KL Divergence Terms**  \n",
    "  When training or explicitly requested (`calculate_log_probs=True`), the **log probabilities** of the sampled weights and biases under both the prior and the posterior are computed:\n",
    "  \\[\n",
    "  \\log P(w) + \\log P(b), \\quad \\log q(w|\\theta) + \\log q(b|\\theta)\n",
    "  \\]\n",
    "  These values are stored in `self.log_prior` and `self.log_variational_posterior`, and are later used in the overall **variational objective function**."
   ]
  },
  {
   "cell_type": "code",
   "execution_count": 39,
   "metadata": {
    "colab": {
     "autoexec": {
      "startup": false,
      "wait_interval": 0
     }
    },
    "colab_type": "code",
    "id": "ju2J8fneo7kc"
   },
   "outputs": [],
   "source": [
    "class BayesianLinear(nn.Module):\n",
    "    def __init__(self, in_features, out_features):\n",
    "        super().__init__()\n",
    "        self.in_features = in_features\n",
    "        self.out_features = out_features\n",
    "        # Weight parameters\n",
    "        self.weight_mu = nn.Parameter(torch.Tensor(out_features, in_features).uniform_(-0.2, 0.2))\n",
    "        self.weight_rho = nn.Parameter(torch.Tensor(out_features, in_features).uniform_(-5,-4))\n",
    "        self.weight = Gaussian(self.weight_mu, self.weight_rho)\n",
    "        # Bias parameters\n",
    "        self.bias_mu = nn.Parameter(torch.Tensor(out_features).uniform_(-0.2, 0.2))\n",
    "        self.bias_rho = nn.Parameter(torch.Tensor(out_features).uniform_(-5,-4))\n",
    "        self.bias = Gaussian(self.bias_mu, self.bias_rho)\n",
    "        # Prior distributions\n",
    "        self.weight_prior = ScaleMixtureGaussian(PI, SIGMA_1, SIGMA_2)\n",
    "        self.bias_prior = ScaleMixtureGaussian(PI, SIGMA_1, SIGMA_2)\n",
    "        self.log_prior = 0\n",
    "        self.log_variational_posterior = 0\n",
    "\n",
    "    def forward(self, input, sample=False, calculate_log_probs=False):\n",
    "        if self.training or sample:\n",
    "            weight = self.weight.sample()\n",
    "            bias = self.bias.sample()\n",
    "        else:\n",
    "            weight = self.weight.mu\n",
    "            bias = self.bias.mu\n",
    "        if self.training or calculate_log_probs:\n",
    "            self.log_prior = self.weight_prior.log_prob(weight) + self.bias_prior.log_prob(bias)\n",
    "            self.log_variational_posterior = self.weight.log_prob(weight) + self.bias.log_prob(bias)\n",
    "        else:\n",
    "            self.log_prior, self.log_variational_posterior = 0, 0\n",
    "\n",
    "        return F.linear(input, weight, bias)"
   ]
  },
  {
   "cell_type": "markdown",
   "metadata": {},
   "source": [
    "- The `BayesianNetwork` class below defines a fully connected neural network with three Bayesian linear layers, each modeling uncertainty over weights and biases.  \n",
    "- It uses Monte Carlo sampling to estimate predictions and compute the evidence lower bound (ELBO) loss during training.  \n",
    "- The `forward` method supports both deterministic and stochastic forward passes by toggling the `sample` flag.  \n",
    "- The network accumulates log-prior and log-posterior probabilities from each layer to compute the KL divergence term in the ELBO.  \n",
    "- The `sample_elbo` method performs multiple forward passes to estimate an unbiased ELBO loss, enabling principled Bayesian learning and regularization."
   ]
  },
  {
   "cell_type": "code",
   "execution_count": 40,
   "metadata": {
    "colab": {
     "autoexec": {
      "startup": false,
      "wait_interval": 0
     }
    },
    "colab_type": "code",
    "id": "itSuNJtYo-X7"
   },
   "outputs": [],
   "source": [
    "class BayesianNetwork(nn.Module):\n",
    "    def __init__(self):\n",
    "        super().__init__()\n",
    "        self.l1 = BayesianLinear(28*28, 400)\n",
    "        self.l2 = BayesianLinear(400, 400)\n",
    "        self.l3 = BayesianLinear(400, 10)\n",
    "    \n",
    "    def forward(self, x, sample=False):\n",
    "        x = x.view(-1, 28*28)\n",
    "        x = F.relu(self.l1(x, sample))\n",
    "        x = F.relu(self.l2(x, sample))\n",
    "        x = F.log_softmax(self.l3(x, sample), dim=1)\n",
    "        return x\n",
    "    \n",
    "    def log_prior(self):\n",
    "        return self.l1.log_prior \\\n",
    "               + self.l2.log_prior \\\n",
    "               + self.l3.log_prior\n",
    "    \n",
    "    def log_variational_posterior(self):\n",
    "        return self.l1.log_variational_posterior \\\n",
    "               + self.l2.log_variational_posterior \\\n",
    "               + self.l3.log_variational_posterior\n",
    "    \n",
    "    def sample_elbo(self, input, target, samples=SAMPLES):\n",
    "        outputs = torch.zeros(samples, BATCH_SIZE, CLASSES).to(DEVICE)\n",
    "        log_priors = torch.zeros(samples).to(DEVICE)\n",
    "        log_variational_posteriors = torch.zeros(samples).to(DEVICE)\n",
    "        for i in range(samples):\n",
    "            outputs[i] = self(input, sample=True)\n",
    "            log_priors[i] = self.log_prior()\n",
    "            log_variational_posteriors[i] = self.log_variational_posterior()\n",
    "        log_prior = log_priors.mean()\n",
    "        log_variational_posterior = log_variational_posteriors.mean()\n",
    "        negative_log_likelihood = F.nll_loss(outputs.mean(0), target, size_average=False)\n",
    "        loss = (log_variational_posterior - log_prior)/NUM_BATCHES + negative_log_likelihood\n",
    "        return loss, log_prior, log_variational_posterior, negative_log_likelihood\n",
    "\n",
    "net = BayesianNetwork().to(DEVICE)"
   ]
  },
  {
   "cell_type": "markdown",
   "metadata": {
    "colab_type": "text",
    "id": "h-HLpkfPm2BI"
   },
   "source": [
    "# 3) Training"
   ]
  },
  {
   "cell_type": "markdown",
   "metadata": {},
   "source": [
    "In this training part, we are performing a Logging Functions for Training Visualization. These utility functions log model statistics to TensorBoard for monitoring the training dynamics of the Bayesian neural network.\n",
    "\n",
    "- `write_weight_histograms(epoch)`: records histograms of the variational posterior parameters (`mu` and `rho`) for both weights and biases across all Bayesian layers. This enables visual tracking of how the weight distributions evolve over training epochs.\n",
    "\n",
    "- `write_loss_scalars(epoch, batch_idx, loss, log_prior, log_variational_posterior, negative_log_likelihood)` : Logs key scalar quantities related to the variational loss: total loss, complexity cost (KL divergence), log-prior, log-posterior, and negative log-likelihood. These logs help analyze the contribution of each term in the ELBO and detect overfitting or under-regularization."
   ]
  },
  {
   "cell_type": "code",
   "execution_count": 41,
   "metadata": {
    "colab": {
     "autoexec": {
      "startup": false,
      "wait_interval": 0
     }
    },
    "colab_type": "code",
    "id": "SJXePX9KpAu0"
   },
   "outputs": [],
   "source": [
    "def write_weight_histograms(epoch):\n",
    "    writer.add_histogram('histogram/w1_mu', net.l1.weight_mu,epoch)\n",
    "    writer.add_histogram('histogram/w1_rho', net.l1.weight_rho,epoch)\n",
    "    writer.add_histogram('histogram/w2_mu', net.l2.weight_mu,epoch)\n",
    "    writer.add_histogram('histogram/w2_rho', net.l2.weight_rho,epoch)\n",
    "    writer.add_histogram('histogram/w3_mu', net.l3.weight_mu,epoch)\n",
    "    writer.add_histogram('histogram/w3_rho', net.l3.weight_rho,epoch)\n",
    "    writer.add_histogram('histogram/b1_mu', net.l1.bias_mu,epoch)\n",
    "    writer.add_histogram('histogram/b1_rho', net.l1.bias_rho,epoch)\n",
    "    writer.add_histogram('histogram/b2_mu', net.l2.bias_mu,epoch)\n",
    "    writer.add_histogram('histogram/b2_rho', net.l2.bias_rho,epoch)\n",
    "    writer.add_histogram('histogram/b3_mu', net.l3.bias_mu,epoch)\n",
    "    writer.add_histogram('histogram/b3_rho', net.l3.bias_rho,epoch)\n",
    "\n",
    "def write_loss_scalars(epoch, batch_idx, loss, log_prior, log_variational_posterior, negative_log_likelihood):\n",
    "    writer.add_scalar('logs/loss', loss, epoch*NUM_BATCHES+batch_idx)\n",
    "    writer.add_scalar('logs/complexity_cost', log_variational_posterior-log_prior, epoch*NUM_BATCHES+batch_idx)\n",
    "    writer.add_scalar('logs/log_prior', log_prior, epoch*NUM_BATCHES+batch_idx)\n",
    "    writer.add_scalar('logs/log_variational_posterior', log_variational_posterior, epoch*NUM_BATCHES+batch_idx)\n",
    "    writer.add_scalar('logs/negative_log_likelihood', negative_log_likelihood, epoch*NUM_BATCHES+batch_idx)"
   ]
  },
  {
   "cell_type": "markdown",
   "metadata": {},
   "source": [
    "### Training Function for Bayesian Neural Network\n",
    "\n",
    "The `train()` function below executes one epoch of training for the Bayesian neural network using variational inference.\n",
    "\n",
    "- The model is set to training mode, enabling stochastic sampling of weights from the variational posterior.\n",
    "- At the beginning of the first epoch (`epoch == 0`), it logs the initial weight and bias distributions for visualization.\n",
    "- For each batch, it performs the following steps:\n",
    "  1. Moves data and target to the specified device.\n",
    "  2. Computes the ELBO loss using `sample_elbo`, which includes KL divergence and negative log-likelihood.\n",
    "  3. Performs backpropagation and updates the variational parameters using the optimizer.\n",
    "  4. Logs the loss components to TensorBoard.\n",
    "- After the epoch concludes, updated weight histograms are written for the next visualization snapshot."
   ]
  },
  {
   "cell_type": "code",
   "execution_count": 42,
   "metadata": {
    "colab": {
     "autoexec": {
      "startup": false,
      "wait_interval": 0
     }
    },
    "colab_type": "code",
    "id": "q31y405kpGxt"
   },
   "outputs": [],
   "source": [
    "def train(net, optimizer, epoch):\n",
    "    net.train()\n",
    "    if epoch == 0: # write initial distributions\n",
    "        write_weight_histograms(epoch)\n",
    "    for batch_idx, (data, target) in enumerate(tqdm(train_loader)):\n",
    "        data, target = data.to(DEVICE), target.to(DEVICE)\n",
    "        net.zero_grad()\n",
    "        loss, log_prior, log_variational_posterior, negative_log_likelihood = net.sample_elbo(data, target)\n",
    "        loss.backward()\n",
    "        optimizer.step()\n",
    "        write_loss_scalars(epoch, batch_idx, loss, log_prior, log_variational_posterior, negative_log_likelihood)\n",
    "    write_weight_histograms(epoch+1)"
   ]
  },
  {
   "cell_type": "markdown",
   "metadata": {},
   "source": [
    "### Optimizer Initialization and Training Loop\n",
    "\n",
    "The Adam optimizer is initialized over all trainable parameters of the Bayesian neural network.  \n",
    "Training proceeds for a predefined number of epochs (`TRAIN_EPOCHS`), where in each epoch the `train()` function is called to perform variational inference via ELBO minimization.  \n",
    "This loop allows the model to iteratively refine its posterior approximations and improve predictive performance while capturing uncertainty."
   ]
  },
  {
   "cell_type": "code",
   "execution_count": 43,
   "metadata": {
    "colab": {
     "autoexec": {
      "startup": false,
      "wait_interval": 0
     },
     "base_uri": "https://localhost:8080/",
     "height": 357
    },
    "colab_type": "code",
    "executionInfo": {
     "elapsed": 1090232,
     "status": "ok",
     "timestamp": 1528264929340,
     "user": {
      "displayName": "Nitarshan Rajkumar",
      "photoUrl": "//lh6.googleusercontent.com/-oLz5q0aJmAQ/AAAAAAAAAAI/AAAAAAAAAIY/O0-NjvATt18/s50-c-k-no/photo.jpg",
      "userId": "117587045527370134083"
     },
     "user_tz": 420
    },
    "id": "cWaZ4c93pJkm",
    "outputId": "379e274f-ac3b-406b-9d31-c1a760242f84"
   },
   "outputs": [
    {
     "name": "stderr",
     "output_type": "stream",
     "text": [
      "  0%|          | 0/600 [00:00<?, ?it/s]/Users/mymac/Library/Python/3.9/lib/python/site-packages/torch/nn/_reduction.py:51: UserWarning: size_average and reduce args will be deprecated, please use reduction='sum' instead.\n",
      "  warnings.warn(warning.format(ret))\n",
      "100%|██████████| 600/600 [00:33<00:00, 18.17it/s]\n",
      "100%|██████████| 600/600 [00:33<00:00, 17.95it/s]\n",
      "100%|██████████| 600/600 [00:33<00:00, 18.06it/s]\n",
      "100%|██████████| 600/600 [00:33<00:00, 17.77it/s]\n",
      "100%|██████████| 600/600 [00:33<00:00, 18.13it/s]\n",
      "100%|██████████| 600/600 [00:32<00:00, 18.28it/s]\n",
      "100%|██████████| 600/600 [00:33<00:00, 17.91it/s]\n",
      "100%|██████████| 600/600 [00:33<00:00, 18.15it/s]\n",
      "100%|██████████| 600/600 [00:32<00:00, 18.29it/s]\n",
      "100%|██████████| 600/600 [00:32<00:00, 18.22it/s]\n",
      "100%|██████████| 600/600 [00:33<00:00, 18.04it/s]\n",
      "100%|██████████| 600/600 [00:33<00:00, 18.13it/s]\n",
      "100%|██████████| 600/600 [00:33<00:00, 18.04it/s]\n",
      "100%|██████████| 600/600 [00:33<00:00, 18.11it/s]\n",
      "100%|██████████| 600/600 [00:34<00:00, 17.57it/s]\n",
      "100%|██████████| 600/600 [00:35<00:00, 16.77it/s]\n",
      "100%|██████████| 600/600 [00:34<00:00, 17.52it/s]\n",
      "100%|██████████| 600/600 [00:33<00:00, 18.02it/s]\n",
      "100%|██████████| 600/600 [00:34<00:00, 17.32it/s]\n",
      "100%|██████████| 600/600 [00:34<00:00, 17.50it/s]\n"
     ]
    }
   ],
   "source": [
    "optimizer = optim.Adam(net.parameters())\n",
    "for epoch in range(TRAIN_EPOCHS):\n",
    "    train(net, optimizer, epoch)"
   ]
  },
  {
   "cell_type": "markdown",
   "metadata": {
    "colab_type": "text",
    "id": "LwmjhEqlm64B"
   },
   "source": [
    "# 4) Evaluation"
   ]
  },
  {
   "cell_type": "markdown",
   "metadata": {
    "colab_type": "text",
    "id": "F6zoJviDmArm"
   },
   "source": [
    "### Model Ensemble\n",
    "\n",
    "Now we are reaching Evaluation part: Model Ensemble and Posterior Mean Prediction.\n",
    "\n",
    "The `test_ensemble()` function below evaluates the performance of the Bayesian neural network using multiple stochastic forward passes (Monte Carlo samples) as well as deterministic inference via the posterior mean.\n",
    "\n",
    "- The network is set to evaluation mode (`net.eval()`) and predictions are made without gradient computation (`torch.no_grad()`).\n",
    "- For each test batch, `TEST_SAMPLES` predictions are drawn from the variational posterior (`sample=True`), and one prediction is computed using the mean of the posterior (`sample=False`).\n",
    "- All sampled predictions are stored and then averaged to obtain an ensemble output.\n",
    "- Accuracy is reported for:\n",
    "  - Each individual posterior sample (`Component X Accuracy`)\n",
    "  - The deterministic posterior mean (`Posterior Mean Accuracy`)\n",
    "  - The full ensemble (average of all samples and mean) as `Ensemble Accuracy`."
   ]
  },
  {
   "cell_type": "code",
   "execution_count": 44,
   "metadata": {
    "colab": {
     "autoexec": {
      "startup": false,
      "wait_interval": 0
     },
     "base_uri": "https://localhost:8080/",
     "height": 221
    },
    "colab_type": "code",
    "executionInfo": {
     "elapsed": 198116,
     "status": "ok",
     "timestamp": 1528265127612,
     "user": {
      "displayName": "Nitarshan Rajkumar",
      "photoUrl": "//lh6.googleusercontent.com/-oLz5q0aJmAQ/AAAAAAAAAAI/AAAAAAAAAIY/O0-NjvATt18/s50-c-k-no/photo.jpg",
      "userId": "117587045527370134083"
     },
     "user_tz": 420
    },
    "id": "j4OzjvLHpL3o",
    "outputId": "1a8164fc-85d0-4b08-e010-33c3b7322b09"
   },
   "outputs": [
    {
     "name": "stdout",
     "output_type": "stream",
     "text": [
      "Component 0 Accuracy: 8629/10000\n",
      "Component 1 Accuracy: 8633/10000\n",
      "Component 2 Accuracy: 8638/10000\n",
      "Component 3 Accuracy: 8641/10000\n",
      "Component 4 Accuracy: 8598/10000\n",
      "Component 5 Accuracy: 8620/10000\n",
      "Component 6 Accuracy: 8587/10000\n",
      "Component 7 Accuracy: 8583/10000\n",
      "Component 8 Accuracy: 8591/10000\n",
      "Component 9 Accuracy: 8625/10000\n",
      "Posterior Mean Accuracy: 8749/10000\n",
      "Ensemble Accuracy: 8814/10000\n"
     ]
    }
   ],
   "source": [
    "def test_ensemble():\n",
    "    net.eval()\n",
    "    correct = 0\n",
    "    corrects = np.zeros(TEST_SAMPLES+1, dtype=int)\n",
    "    with torch.no_grad():\n",
    "        for data, target in test_loader:\n",
    "            data, target = data.to(DEVICE), target.to(DEVICE)\n",
    "            outputs = torch.zeros(TEST_SAMPLES+1, TEST_BATCH_SIZE, CLASSES).to(DEVICE)\n",
    "            for i in range(TEST_SAMPLES):\n",
    "                outputs[i] = net(data, sample=True)\n",
    "            outputs[TEST_SAMPLES] = net(data, sample=False)\n",
    "            output = outputs.mean(0)\n",
    "            preds = preds = outputs.max(2, keepdim=True)[1]\n",
    "            pred = output.max(1, keepdim=True)[1] # index of max log-probability\n",
    "            corrects += preds.eq(target.view_as(pred)).sum(dim=1).squeeze().cpu().numpy()\n",
    "            correct += pred.eq(target.view_as(pred)).sum().item()\n",
    "    for index, num in enumerate(corrects):\n",
    "        if index < TEST_SAMPLES:\n",
    "            print('Component {} Accuracy: {}/{}'.format(index, num, TEST_SIZE))\n",
    "        else:\n",
    "            print('Posterior Mean Accuracy: {}/{}'.format(num, TEST_SIZE))\n",
    "    print('Ensemble Accuracy: {}/{}'.format(correct, TEST_SIZE))\n",
    "\n",
    "test_ensemble()"
   ]
  },
  {
   "cell_type": "markdown",
   "metadata": {},
   "source": [
    "#### 📊 Example Results (as shown in the output above)\n",
    "- Component-wise accuracies range from 85.5% to 86.5%, indicating consistent performance across samples.\n",
    "- Posterior mean accuracy: **87.7%**\n",
    "- Ensemble accuracy (averaged prediction): **88.3%**, demonstrating the benefit of Bayesian model averaging."
   ]
  },
  {
   "cell_type": "markdown",
   "metadata": {
    "colab_type": "text",
    "id": "1Xa8bwZcnO2R"
   },
   "source": [
    "### Model Uncertainty"
   ]
  },
  {
   "cell_type": "markdown",
   "metadata": {
    "colab_type": "text",
    "id": "jMpmGG8unTUQ"
   },
   "source": [
    "#### In-Domain Uncertainty\n",
    "\n",
    "In this part of Model Uncertainty: Visualizing In-Domain Inputs, we implement `show(img)` function. The function is a simple utility for displaying an image tensor using `matplotlib`.\n",
    "\n",
    "- It converts a PyTorch tensor into a NumPy array using `.numpy()`, and transposes its dimensions from (C, H, W) to (H, W, C), which is the format expected by `matplotlib.pyplot.imshow`.\n",
    "- The interpolation is set to `'nearest'`, ensuring that individual pixels remain visually distinct.\n",
    "- This function is typically used to visualize specific test images when analyzing the **epistemic uncertainty** of the model’s predictions on in-distribution samples."
   ]
  },
  {
   "cell_type": "code",
   "execution_count": 45,
   "metadata": {
    "colab": {
     "autoexec": {
      "startup": false,
      "wait_interval": 0
     }
    },
    "colab_type": "code",
    "id": "qwd_xrtqpsvJ"
   },
   "outputs": [],
   "source": [
    "def show(img):\n",
    "    npimg = img.numpy()\n",
    "    plt.imshow(np.transpose(npimg, (1,2,0)), interpolation='nearest')"
   ]
  },
  {
   "cell_type": "markdown",
   "metadata": {},
   "source": [
    "### Sampling and Visualizing Test Images\n",
    "\n",
    "This block retrieves a single batch of test images from the `test_loader` and visualizes it using the previously defined `show()` function.\n",
    "\n",
    "- `fmnist_sample = next(iter(test_loader))` fetches the next mini-batch from the FashionMNIST test dataset.\n",
    "- The image tensor (`fmnist_sample[0]`) is moved to the appropriate computation device for potential model inference.\n",
    "- `fmnist_sample[1]` contains the true labels for the batch, which are printed for reference.\n",
    "- `make_grid` is used to arrange the image batch into a single visual grid for compact display.\n",
    "- The image grid is then shown using `matplotlib`, with a dark Seaborn theme for visual clarity.\n",
    "\n",
    "The printed label tensor `tensor([9, 2, 1, 1, 6])` indicates the true classes of the first five test images."
   ]
  },
  {
   "cell_type": "code",
   "execution_count": 46,
   "metadata": {
    "colab": {
     "autoexec": {
      "startup": false,
      "wait_interval": 0
     },
     "base_uri": "https://localhost:8080/",
     "height": 161
    },
    "colab_type": "code",
    "executionInfo": {
     "elapsed": 639,
     "status": "ok",
     "timestamp": 1528265130861,
     "user": {
      "displayName": "Nitarshan Rajkumar",
      "photoUrl": "//lh6.googleusercontent.com/-oLz5q0aJmAQ/AAAAAAAAAAI/AAAAAAAAAIY/O0-NjvATt18/s50-c-k-no/photo.jpg",
      "userId": "117587045527370134083"
     },
     "user_tz": 420
    },
    "id": "WhBywGVNpt9p",
    "outputId": "1528cd63-e80a-49fa-8ab9-2c46c786cc7f"
   },
   "outputs": [
    {
     "name": "stdout",
     "output_type": "stream",
     "text": [
      "tensor([9, 2, 1, 1, 6])\n"
     ]
    },
    {
     "data": {
      "image/png": "[encoded data removed]",
      "text/plain": [
       "<Figure size 640x480 with 1 Axes>"
      ]
     },
     "metadata": {},
     "output_type": "display_data"
    }
   ],
   "source": [
    "fmnist_sample = next(iter(test_loader))\n",
    "fmnist_sample[0] = fmnist_sample[0].to(DEVICE)\n",
    "print(fmnist_sample[1])\n",
    "sns.set_style(\"dark\")\n",
    "show(make_grid(fmnist_sample[0].cpu()))"
   ]
  },
  {
   "cell_type": "markdown",
   "metadata": {},
   "source": [
    "The output image above correctly displays a horizontal grid of five grayscale samples from the FashionMNIST test dataset.\n",
    "\n",
    "- Each image corresponds to a 28×28 pixel grayscale fashion item, such as a shoe, pullover, trousers, or shirt.\n",
    "- The visualization was generated using `make_grid()` and `plt.imshow()` with `interpolation='nearest'`, preserving pixel resolution.\n",
    "- The printed label tensor `[9, 2, 1, 1, 6]` matches the visible content:\n",
    "  - `9`: Ankle boot\n",
    "  - `2`: Pullover\n",
    "  - `1`: Trouser\n",
    "  - `6`: Shirt\n",
    "\n",
    "This confirms that the data loading, grid formation, and visualization functions are all functioning as intended."
   ]
  },
  {
   "cell_type": "markdown",
   "metadata": {},
   "source": [
    "### In-Domain Model Uncertainty Estimation\n",
    "\n",
    "The code below estimates **epistemic uncertainty** for in-distribution test samples by analyzing the variability in predictions across 100 stochastic forward passes through the Bayesian neural network.\n",
    "\n",
    "- The model is set to evaluation mode (`net.eval()`), and one test batch of five FashionMNIST images is used.\n",
    "- For each of the five samples, 100 predictions are generated by sampling from the model’s posterior (`sample=True`).\n",
    "- These predictions are stored in a 5×100 matrix (`fmnist_outputs`), where each row corresponds to the class predictions for one image over all samples.\n",
    "- For each image, a histogram is plotted showing the frequency of predicted classes across the 100 forward passes.\n",
    "  - High **concentration** in one class indicates low uncertainty (model confidence).\n",
    "  - A **spread across classes** indicates higher uncertainty (model ambiguity)."
   ]
  },
  {
   "cell_type": "code",
   "execution_count": 47,
   "metadata": {
    "colab": {
     "autoexec": {
      "startup": false,
      "wait_interval": 0
     },
     "base_uri": "https://localhost:8080/",
     "height": 283
    },
    "colab_type": "code",
    "executionInfo": {
     "elapsed": 2293,
     "status": "ok",
     "timestamp": 1528265133412,
     "user": {
      "displayName": "Nitarshan Rajkumar",
      "photoUrl": "//lh6.googleusercontent.com/-oLz5q0aJmAQ/AAAAAAAAAAI/AAAAAAAAAIY/O0-NjvATt18/s50-c-k-no/photo.jpg",
      "userId": "117587045527370134083"
     },
     "user_tz": 420
    },
    "id": "PBxwd31ppwIo",
    "outputId": "4349ee1a-6102-4e84-daf5-fe7888db37e0"
   },
   "outputs": [
    {
     "data": {
      "image/png": "[encoded data removed]",
      "text/plain": [
       "<Figure size 1000x400 with 5 Axes>"
      ]
     },
     "metadata": {},
     "output_type": "display_data"
    }
   ],
   "source": [
    "net.eval()\n",
    "fmnist_outputs = net(fmnist_sample[0], True).max(1, keepdim=True)[1].detach().cpu().numpy()\n",
    "for _ in range(99):\n",
    "    fmnist_outputs = np.append(fmnist_outputs, net(fmnist_sample[0], True).max(1, keepdim=True)[1].detach().cpu().numpy(), axis=1)\n",
    "sns.set_style(\"darkgrid\")\n",
    "plt.subplots(5,1,figsize=(10,4))\n",
    "for i in range(5):\n",
    "    plt.subplot(5,1,i+1)\n",
    "    plt.ylim(0,100)\n",
    "    plt.xlabel(\"Categories\")\n",
    "    plt.xticks(range(10), [\"Top\", \"Trouser\", \"Pullover\", \"Dress\", \"Coat\", \"Sandal\", \"Shirt\", \"Sneaker\", \"Bag\", \"Ankle Boot\"])\n",
    "    plt.ylabel(\"Count\")\n",
    "    plt.yticks(range(50,101,50))\n",
    "    plt.hist(fmnist_outputs[i], np.arange(-0.5, 10, 1))"
   ]
  },
  {
   "cell_type": "markdown",
   "metadata": {},
   "source": [
    "#### Interpretation of Plots Above\n",
    "\n",
    "The figure above presents histograms of predicted class frequencies for five test images, each evaluated across 100 stochastic forward passes through the Bayesian network.\n",
    "\n",
    "- Each horizontal subplot corresponds to a different test image.\n",
    "- The x-axis shows the 10 FashionMNIST categories, while the y-axis counts how often each class was predicted.\n",
    "\n",
    "#### 📊 Interpretation:\n",
    "- All five histograms are **highly peaked**, meaning each image consistently yields the same predicted class across all 100 samples.\n",
    "- This indicates that the model has **low epistemic uncertainty** for these in-domain inputs—it is confident in its predictions despite posterior sampling.\n",
    "- For instance:\n",
    "  - The first image is confidently predicted as **Ankle Boot**,\n",
    "  - The second as **Pullover**,\n",
    "  - The third as **Trouser**, and so on.\n",
    "\n",
    "This behavior is expected for well-trained Bayesian models on in-distribution data and suggests stable predictive performance on familiar inputs."
   ]
  },
  {
   "cell_type": "markdown",
   "metadata": {
    "colab_type": "text",
    "id": "1v7EqhO5nY52"
   },
   "source": [
    "#### Out-of-Domain Uncertainty"
   ]
  },
  {
   "cell_type": "markdown",
   "metadata": {},
   "source": [
    "The block code below initializes a data loader for the **MNIST test set**, which is used as an **out-of-domain dataset** for a model trained on FashionMNIST:"
   ]
  },
  {
   "cell_type": "code",
   "execution_count": 48,
   "metadata": {
    "cellView": "both",
    "colab": {
     "autoexec": {
      "startup": false,
      "wait_interval": 0
     }
    },
    "colab_type": "code",
    "id": "MkgNoIeCpzVF"
   },
   "outputs": [],
   "source": [
    "mnist_loader = torch.utils.data.DataLoader(\n",
    "    datasets.MNIST('./mnist', train=False, download=True, transform=transforms.ToTensor()), batch_size=5, shuffle=False)"
   ]
  },
  {
   "cell_type": "markdown",
   "metadata": {},
   "source": [
    "The MNIST dataset (handwritten digits) is semantically and visually different from the FashionMNIST classes used during training. By passing MNIST samples through the Bayesian model, we can assess its epistemic uncertainty on unfamiliar data. A well-calibrated Bayesian model should exhibit higher uncertainty on these inputs due to lack of prior exposure.\n"
   ]
  },
  {
   "cell_type": "markdown",
   "metadata": {},
   "source": [
    "This block code below are intended to visualizing MNIST Inputs. It Retrieves a batch of 5 MNIST test images and moves them to the model’s device. The labels (e.g., tensor([7, 2, 1, 0, 4])) are printed for reference, though they are irrelevant for FashionMNIST classification. A visual grid of the 5 digit images is displayed to illustrate the semantic domain gap between training and test distributions.\n"
   ]
  },
  {
   "cell_type": "code",
   "execution_count": 49,
   "metadata": {
    "colab": {
     "autoexec": {
      "startup": false,
      "wait_interval": 0
     },
     "base_uri": "https://localhost:8080/",
     "height": 161
    },
    "colab_type": "code",
    "executionInfo": {
     "elapsed": 501,
     "status": "ok",
     "timestamp": 1528265134913,
     "user": {
      "displayName": "Nitarshan Rajkumar",
      "photoUrl": "//lh6.googleusercontent.com/-oLz5q0aJmAQ/AAAAAAAAAAI/AAAAAAAAAIY/O0-NjvATt18/s50-c-k-no/photo.jpg",
      "userId": "117587045527370134083"
     },
     "user_tz": 420
    },
    "id": "oB1TCdv7C97a",
    "outputId": "36b7bec9-7b6a-4f8a-80ae-98180f9b65a3"
   },
   "outputs": [
    {
     "name": "stdout",
     "output_type": "stream",
     "text": [
      "tensor([7, 2, 1, 0, 4])\n"
     ]
    },
    {
     "data": {
      "image/png": "[encoded data removed]",
      "text/plain": [
       "<Figure size 640x480 with 1 Axes>"
      ]
     },
     "metadata": {},
     "output_type": "display_data"
    }
   ],
   "source": [
    "mnist_sample = next(iter(mnist_loader))\n",
    "mnist_sample[0] = mnist_sample[0].to(DEVICE)\n",
    "print(mnist_sample[1])\n",
    "sns.set_style(\"dark\")\n",
    "show(make_grid(mnist_sample[0].cpu()))"
   ]
  },
  {
   "cell_type": "markdown",
   "metadata": {},
   "source": [
    "The displayed image grid above shows five grayscale digit images from the MNIST test dataset, as retrieved and visualized by the code block.\n",
    "\n",
    "- The tensor `tensor([7, 2, 1, 0, 4])` confirms that the true labels of the digits are 7, 2, 1, 0, and 4 respectively.\n",
    "- These images are arranged horizontally using `make_grid` and rendered using `plt.imshow()` with the correct axis order and interpolation.\n",
    "- The digit images have a consistent 28×28 resolution and black background, matching the expected MNIST format.\n",
    "\n",
    "This visualization serves as the input reference for evaluating the Bayesian model's **epistemic uncertainty** on **out-of-domain** data (since the model was trained on FashionMNIST, not digits)."
   ]
  },
  {
   "cell_type": "markdown",
   "metadata": {},
   "source": [
    "### Out-of-Domain Uncertainty Estimation on MNIST\n",
    "\n",
    "This code performs 100 stochastic forward passes on a batch of MNIST digit images using the Bayesian neural network. Each prediction is recorded, and class frequencies are collected to form a 5×100 matrix of predicted FashionMNIST classes. Histograms are plotted for each image to visualize the distribution of predicted labels across the samples. A wide or multimodal distribution indicates high epistemic uncertainty, reflecting the model’s lack of confidence on unfamiliar (out-of-distribution) inputs.  \n",
    "This approach helps evaluate how well the model can detect and express uncertainty when encountering data outside its training domain."
   ]
  },
  {
   "cell_type": "code",
   "execution_count": 50,
   "metadata": {
    "colab": {
     "autoexec": {
      "startup": false,
      "wait_interval": 0
     },
     "base_uri": "https://localhost:8080/",
     "height": 283
    },
    "colab_type": "code",
    "executionInfo": {
     "elapsed": 2254,
     "status": "ok",
     "timestamp": 1528265137311,
     "user": {
      "displayName": "Nitarshan Rajkumar",
      "photoUrl": "//lh6.googleusercontent.com/-oLz5q0aJmAQ/AAAAAAAAAAI/AAAAAAAAAIY/O0-NjvATt18/s50-c-k-no/photo.jpg",
      "userId": "117587045527370134083"
     },
     "user_tz": 420
    },
    "id": "DLSygPieC-7q",
    "outputId": "5b016b5a-7256-4af6-f6f5-53487b841137"
   },
   "outputs": [
    {
     "data": {
      "image/png": "[encoded data removed]",
      "text/plain": [
       "<Figure size 1000x400 with 5 Axes>"
      ]
     },
     "metadata": {},
     "output_type": "display_data"
    }
   ],
   "source": [
    "net.eval()\n",
    "mnist_outputs = net(mnist_sample[0], True).max(1, keepdim=True)[1].detach().cpu().numpy()\n",
    "for _ in range(99):\n",
    "    mnist_outputs = np.append(mnist_outputs, net(mnist_sample[0], True).max(1, keepdim=True)[1].detach().cpu().numpy(), axis=1)\n",
    "\n",
    "sns.set_style(\"darkgrid\")\n",
    "plt.subplots(5,1,figsize=(10,4))\n",
    "for i in range(5):\n",
    "    plt.subplot(5,1,i+1)\n",
    "    plt.ylim(0,100)\n",
    "    plt.xlabel(\"Categories\")\n",
    "    plt.xticks(range(10), [\"Top\", \"Trouser\", \"Pullover\", \"Dress\", \"Coat\", \"Sandal\", \"Shirt\", \"Sneaker\", \"Bag\", \"Ankle Boot\"])\n",
    "    plt.ylabel(\"Count\")\n",
    "    plt.yticks(range(50,101,50))\n",
    "    plt.hist(mnist_outputs[i], np.arange(-0.5, 10, 1))"
   ]
  },
  {
   "cell_type": "markdown",
   "metadata": {},
   "source": [
    "The histogram plots above represent the predictive distributions of a Bayesian neural network (trained on FashionMNIST) when exposed to MNIST digit images as **out-of-distribution (OOD)** inputs.\n",
    "\n",
    "- Each subplot corresponds to one MNIST image, showing the frequency of predicted FashionMNIST categories across 100 stochastic forward passes.\n",
    "- Unlike in-domain samples which typically yield peaked distributions, these histograms are **spread out**, with predictions covering multiple classes.\n",
    "- Some plots show **multimodal** or **uncertain** behavior (e.g., voting across Sandal, Bag, and Coat), indicating that the model lacks confidence in classifying these unfamiliar images.\n",
    "- This wide dispersion is a desirable behavior—it reflects **epistemic uncertainty**, suggesting the model is aware it’s operating outside its training domain.\n",
    "\n",
    "This confirms that the Bayesian model is behaving robustly by not overconfidently misclassifying OOD data, a key property in trustworthy machine learning systems."
   ]
  }
 ],
 "metadata": {
  "accelerator": "GPU",
  "colab": {
   "collapsed_sections": [],
   "default_view": {},
   "name": "bayes-by-backprop.ipynb",
   "provenance": [],
   "version": "0.3.2",
   "views": {}
  },
  "kernelspec": {
   "display_name": "Python 3",
   "language": "python",
   "name": "python3"
  },
  "language_info": {
   "codemirror_mode": {
    "name": "ipython",
    "version": 3
   },
   "file_extension": ".py",
   "mimetype": "text/x-python",
   "name": "python",
   "nbconvert_exporter": "python",
   "pygments_lexer": "ipython3",
   "version": "3.9.6"
  }
 },
 "nbformat": 4,
 "nbformat_minor": 2
}
