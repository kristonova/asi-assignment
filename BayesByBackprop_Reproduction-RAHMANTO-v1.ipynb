{
 "cells": [
  {
   "cell_type": "markdown",
   "id": "1241a71d",
   "metadata": {},
   "source": [
    "# Bayes by Backprop:  Reproduction by RAHMANTO\n",
    "**By: Krisostomus Nova RAHMANTO**\n",
    "\n",
    "An implementation of the paper Weight Uncertainty in Neural Networks (Blundell et al, 2015). This notebook extends previous implementations to closely match Blundell et al. (2015)'s protocol:\n",
    "- **Hidden layer size** configurable (400, 800, 1200).\n",
    "- **KL reweighting** per minibatch (approx. Equation 9).\n",
    "- **Learning rate decay** of 0.95 per epoch.\n",
    "- **Extended training** for 300 epochs.\n",
    "- **Hyperparameter tuning scaffold** for scale-mixture prior.\n",
    "\n",
    "This notebook is part of Advanced Statistical Inference (ASI) course assignment on EURECOM, France (Spring-2025)"
   ]
  },
  {
   "cell_type": "markdown",
   "id": "48a6602e",
   "metadata": {},
   "source": [
    "# 0) Preparation\n",
    "\n",
    "These imports load essential PyTorch modules for defining models and loss functions. `torchvision` provides the MNIST dataset and necessary transformations for input preprocessing. Matplotlib and NumPy support numerical operations and visualization."
   ]
  },
  {
   "cell_type": "code",
   "execution_count": 1,
   "id": "33cbcb38",
   "metadata": {},
   "outputs": [],
   "source": [
    "import torch\n",
    "import torch.nn as nn\n",
    "import torch.nn.functional as F\n",
    "import torch.optim as optim\n",
    "import torchvision\n",
    "import torchvision.transforms as transforms\n",
    "\n",
    "import numpy as np\n",
    "import math\n",
    "import matplotlib.pyplot as plt"
   ]
  },
  {
   "cell_type": "markdown",
   "id": "c72d7335",
   "metadata": {},
   "source": [
    "# 1) Modelling\n",
    "These utility functions compute log-probabilities under Gaussian and scale-mixture priors. The scale-mixture prior follows Equation (7): $p(w)=\\pi\\mathcal{N}(0,\\sigma_1^2)+(1-\\pi)\\mathcal{N}(0,\\sigma_2^2)$. They are used to calculate the KL divergence term in the ELBO objective."
   ]
  },
  {
   "cell_type": "code",
   "execution_count": 3,
   "id": "9b349681",
   "metadata": {},
   "outputs": [],
   "source": [
    "def gaussian_log_prob(x, mu, sigma):\n",
    "    return (-0.5 * torch.log(2 * math.pi * sigma ** 2)\n",
    "            - ((x - mu) ** 2) / (2 * sigma ** 2)).sum()\n",
    "\n",
    "def log_mix_gaussian(x, pi, sigma1, sigma2):\n",
    "    prob1 = torch.exp(- x ** 2 / (2 * sigma1 ** 2)) / (math.sqrt(2 * math.pi) * sigma1)\n",
    "    prob2 = torch.exp(- x ** 2 / (2 * sigma2 ** 2)) / (math.sqrt(2 * math.pi) * sigma2)\n",
    "    return torch.log(pi * prob1 + (1 - pi) * prob2).sum()"
   ]
  },
  {
   "cell_type": "markdown",
   "id": "1185d881",
   "metadata": {},
   "source": [
    "The BayesLinear layer implements the reparameterization trick: $w=\\mu+\\sigma\\epsilon$. It computes the KL divergence between the variational posterior $q(w|\\theta)$ and prior $p(w)$ at each forward pass. This follows Section 3.2 and Equation (3)-(4) of the original paper."
   ]
  },
  {
   "cell_type": "code",
   "execution_count": 4,
   "id": "af754a6c",
   "metadata": {},
   "outputs": [],
   "source": [
    "class BayesLinear(nn.Module):\n",
    "    def __init__(self, in_features, out_features, prior_type='scale_mixture',\n",
    "                 pi=0.5, sigma1=1.0, sigma2=0.002):\n",
    "        super().__init__()\n",
    "        self.mu_weight = nn.Parameter(torch.Tensor(out_features, in_features).uniform_(-0.2,0.2))\n",
    "        self.rho_weight = nn.Parameter(torch.Tensor(out_features, in_features).uniform_(-5,-4))\n",
    "        self.mu_bias = nn.Parameter(torch.Tensor(out_features).uniform_(-0.2,0.2))\n",
    "        self.rho_bias = nn.Parameter(torch.Tensor(out_features).uniform_(-5,-4))\n",
    "        self.prior_type, self.pi, self.sigma1, self.sigma2 = prior_type, pi, sigma1, sigma2\n",
    "\n",
    "    def forward(self, x):\n",
    "        eps_w = torch.randn_like(self.rho_weight)\n",
    "        eps_b = torch.randn_like(self.rho_bias)\n",
    "        sigma_w = torch.log1p(torch.exp(self.rho_weight))\n",
    "        sigma_b = torch.log1p(torch.exp(self.rho_bias))\n",
    "        weight = self.mu_weight + sigma_w * eps_w\n",
    "        bias = self.mu_bias + sigma_b * eps_b\n",
    "        self._kl = self._calc_kl(weight, bias, sigma_w, sigma_b)\n",
    "        return F.linear(x, weight, bias)\n",
    "\n",
    "    def _calc_kl(self, w, b, sigma_w, sigma_b):\n",
    "        post_w = gaussian_log_prob(w, self.mu_weight, sigma_w)\n",
    "        post_b = gaussian_log_prob(b, self.mu_bias, sigma_b)\n",
    "        if self.prior_type=='scale_mixture':\n",
    "            prior_w = log_mix_gaussian(w, self.pi, self.sigma1, self.sigma2)\n",
    "            prior_b = log_mix_gaussian(b, self.pi, self.sigma1, self.sigma2)\n",
    "        else:\n",
    "            prior_w = gaussian_log_prob(w, 0, 1)\n",
    "            prior_b = gaussian_log_prob(b, 0, 1)\n",
    "        return (post_w - prior_w) + (post_b - prior_b)\n",
    "\n",
    "    def kl_divergence(self):\n",
    "        return self._kl"
   ]
  },
  {
   "cell_type": "markdown",
   "id": "fe0aa8de",
   "metadata": {},
   "source": [
    "# 2) Create Bayesian Neural Network Algorithm\n",
    "The BayesianNN class defines a two-layer network outputting both logits and KL sum. DropoutNN and VanillaNN serve as regularized and unregularized baselines respectively. This setup allows direct comparison of Bayesian inference against standard methods."
   ]
  },
  {
   "cell_type": "code",
   "execution_count": 5,
   "id": "1a5e3580",
   "metadata": {},
   "outputs": [],
   "source": [
    "class BayesianNN(nn.Module):\n",
    "    def __init__(self, input_dim, hidden_dim, output_dim, prior_type='scale_mixture'):\n",
    "        super().__init__()\n",
    "        self.fc1 = BayesLinear(input_dim, hidden_dim, prior_type)\n",
    "        self.fc2 = BayesLinear(hidden_dim, output_dim, prior_type)\n",
    "\n",
    "    def forward(self, x):\n",
    "        x = x.view(-1, 28*28)\n",
    "        x = F.relu(self.fc1(x))\n",
    "        out = self.fc2(x)\n",
    "        self.kl = self.fc1.kl_divergence() + self.fc2.kl_divergence()\n",
    "        return out, self.kl"
   ]
  },
  {
   "cell_type": "markdown",
   "id": "59c95278",
   "metadata": {},
   "source": [
    "Dropout and Vanilla MLP architectures for baseline comparison."
   ]
  },
  {
   "cell_type": "code",
   "execution_count": 6,
   "id": "155c171d",
   "metadata": {},
   "outputs": [],
   "source": [
    "class DropoutNN(nn.Module):\n",
    "    def __init__(self, input_dim, hidden_dim, output_dim, p=0.5):\n",
    "        super().__init__()\n",
    "        self.fc1 = nn.Linear(input_dim, hidden_dim)\n",
    "        self.dropout = nn.Dropout(p)\n",
    "        self.fc2 = nn.Linear(hidden_dim, output_dim)\n",
    "\n",
    "    def forward(self, x):\n",
    "        x = x.view(-1,28*28)\n",
    "        x = F.relu(self.dropout(self.fc1(x)))\n",
    "        return self.fc2(x)\n",
    "\n",
    "class VanillaNN(nn.Module):\n",
    "    def __init__(self, input_dim, hidden_dim, output_dim):\n",
    "        super().__init__()\n",
    "        self.fc1 = nn.Linear(input_dim, hidden_dim)\n",
    "        self.fc2 = nn.Linear(hidden_dim, output_dim)\n",
    "\n",
    "    def forward(self, x):\n",
    "        x = x.view(-1,28*28)\n",
    "        x = F.relu(self.fc1(x))\n",
    "        return self.fc2(x)"
   ]
  },
  {
   "cell_type": "markdown",
   "id": "d7da1b86",
   "metadata": {},
   "source": [
    "This function computes the ELBO loss: $\\mathcal{F} = \\mathrm{KL}[q||p] - \\mathbb{E}_{q}[\\log p(D|w)]$ (Equation 1). The `beta` parameter applies the KL reweighting schedule per minibatch (Section 3.4). The cross-entropy term acts as the negative log-likelihood component."
   ]
  },
  {
   "cell_type": "code",
   "execution_count": 7,
   "id": "74e40482",
   "metadata": {},
   "outputs": [],
   "source": [
    "def elbo_loss(output, target, kl, batch_size, beta):\n",
    "    nll = F.cross_entropy(output, target, reduction='sum')  # negative log-likelihood\n",
    "    return beta*kl + nll"
   ]
  },
  {
   "cell_type": "markdown",
   "id": "076019f5",
   "metadata": {},
   "source": [
    "# 3) Training\n",
    "\n",
    "Training loops for Bayesian and standard models with LR decay and KL reweighting. `train_bayesian` applies Monte Carlo sampling and KL reweighting per Equation (9). `train_standard` trains dropout and vanilla models using cross-entropy loss only. Learning rate decay is applied at the end of each epoch via the scheduler."
   ]
  },
  {
   "cell_type": "code",
   "execution_count": 8,
   "id": "ad85ccb7",
   "metadata": {},
   "outputs": [],
   "source": [
    "def train_bayesian(model, loader, optimizer, scheduler, samples=3):\n",
    "    model.train()\n",
    "    M = len(loader)\n",
    "    for i, (data, target) in enumerate(loader, start=1):\n",
    "        data, target = data.to(device), target.to(device)\n",
    "        optimizer.zero_grad()\n",
    "        kl_sum = 0\n",
    "        outputs = []\n",
    "        for _ in range(samples):\n",
    "            out, kl = model(data)\n",
    "            outputs.append(out)\n",
    "            kl_sum += kl\n",
    "        out_mean = torch.stack(outputs).mean(0)\n",
    "        # KL reweight: beta_i = 2^{-(i-1)}\n",
    "        beta = 2**(-(i-1))\n",
    "        loss = elbo_loss(out_mean, target, kl_sum, len(data), beta)\n",
    "        loss.backward()\n",
    "        optimizer.step()\n",
    "    scheduler.step()\n",
    "\n",
    "def train_standard(model, loader, optimizer, scheduler=None):\n",
    "    model.train()\n",
    "    for data, target in loader:\n",
    "        data, target = data.to(device), target.to(device)\n",
    "        optimizer.zero_grad()\n",
    "        out = model(data)\n",
    "        loss = F.cross_entropy(out, target)\n",
    "        loss.backward()\n",
    "        optimizer.step()\n",
    "    if scheduler: scheduler.step()"
   ]
  },
  {
   "cell_type": "markdown",
   "id": "0799ef0d",
   "metadata": {},
   "source": [
    "Evaluate function averaging predictions for Bayesian model. The `evaluate` function measures test accuracy, averaging predictions for Bayesian models. It ensures consistent comparison by using multiple samples for uncertainty estimation. Results are reported as percentage of correct classifications."
   ]
  },
  {
   "cell_type": "code",
   "execution_count": 9,
   "id": "e8eaee8a",
   "metadata": {},
   "outputs": [],
   "source": [
    "def evaluate(model, loader, samples=3, bayesian=False):\n",
    "    model.eval()\n",
    "    correct, total = 0,0\n",
    "    with torch.no_grad():\n",
    "        for data, target in loader:\n",
    "            data, target = data.to(device), target.to(device)\n",
    "            if bayesian:\n",
    "                outs = [model(data)[0] for _ in range(samples)]\n",
    "                out = torch.stack(outs).mean(0)\n",
    "            else:\n",
    "                out = model(data)\n",
    "            pred = out.argmax(dim=1)\n",
    "            correct += pred.eq(target).sum().item()\n",
    "            total += target.size(0)\n",
    "    return 100.*correct/total"
   ]
  },
  {
   "cell_type": "markdown",
   "id": "9291b223",
   "metadata": {},
   "source": [
    "We configure three models with 800 hidden units and Adam optimizers at learning rate 1e-3. LR schedulers decay the rate by 0.95 each epoch to mirror the original training schedule. This setup prepares all models for fair and consistent evaluation."
   ]
  },
  {
   "cell_type": "code",
   "execution_count": null,
   "id": "889459a1",
   "metadata": {},
   "outputs": [],
   "source": [
    "device = torch.device('cuda' if torch.cuda.is_available() else 'cpu')\n",
    "transform = transforms.Compose([transforms.ToTensor()])\n",
    "trainset = torchvision.datasets.MNIST('./data', train=True, download=True, transform=transform)\n",
    "testset  = torchvision.datasets.MNIST('./data', train=False, download=True, transform=transform)\n",
    "trainloader = torch.utils.data.DataLoader(trainset, batch_size=128, shuffle=True)\n",
    "testloader  = torch.utils.data.DataLoader(testset,  batch_size=1000, shuffle=False)\n",
    "\n",
    "input_dim, hidden_dim, output_dim = 28*28, 800, 10\n",
    "bayes_model   = BayesianNN(input_dim, hidden_dim, output_dim).to(device)\n",
    "dropout_model = DropoutNN(input_dim, hidden_dim, output_dim).to(device)\n",
    "vanilla_model = VanillaNN(input_dim, hidden_dim, output_dim).to(device)\n",
    "\n",
    "opt_bayes   = optim.Adam(bayes_model.parameters(),   lr=1e-3)\n",
    "opt_dropout = optim.Adam(dropout_model.parameters(), lr=1e-3)\n",
    "opt_vanilla = optim.Adam(vanilla_model.parameters(), lr=1e-3)\n",
    "\n",
    "sched_bayes   = optim.lr_scheduler.StepLR(opt_bayes,   step_size=1, gamma=0.95)\n",
    "sched_dropout = optim.lr_scheduler.StepLR(opt_dropout, step_size=1, gamma=0.95)\n",
    "sched_vanilla = optim.lr_scheduler.StepLR(opt_vanilla, step_size=1, gamma=0.95)"
   ]
  },
  {
   "cell_type": "markdown",
   "id": "4769c9f8",
   "metadata": {},
   "source": [
    "This loop trains all three models for 300 epochs, recording test accuracies. Bayesian training uses 3 Monte Carlo samples per batch to approximate the ELBO gradient. Progress is printed every 20 epochs for monitoring convergence towards ~98% accuracy."
   ]
  },
  {
   "cell_type": "code",
   "execution_count": 11,
   "id": "2134a1b3",
   "metadata": {},
   "outputs": [
    {
     "name": "stdout",
     "output_type": "stream",
     "text": [
      "Epoch 020: Bayes=98.23%, Dropout=98.46%, Vanilla=98.31%\n",
      "Epoch 040: Bayes=98.23%, Dropout=98.49%, Vanilla=98.35%\n",
      "Epoch 060: Bayes=98.33%, Dropout=98.53%, Vanilla=98.34%\n",
      "Epoch 080: Bayes=98.33%, Dropout=98.56%, Vanilla=98.35%\n",
      "Epoch 100: Bayes=98.29%, Dropout=98.57%, Vanilla=98.36%\n",
      "Epoch 120: Bayes=98.30%, Dropout=98.57%, Vanilla=98.36%\n",
      "Epoch 140: Bayes=98.34%, Dropout=98.56%, Vanilla=98.36%\n",
      "Epoch 160: Bayes=98.29%, Dropout=98.57%, Vanilla=98.36%\n",
      "Epoch 180: Bayes=98.28%, Dropout=98.56%, Vanilla=98.36%\n",
      "Epoch 200: Bayes=98.31%, Dropout=98.56%, Vanilla=98.36%\n",
      "Epoch 220: Bayes=98.34%, Dropout=98.56%, Vanilla=98.36%\n",
      "Epoch 240: Bayes=98.26%, Dropout=98.56%, Vanilla=98.36%\n",
      "Epoch 260: Bayes=98.32%, Dropout=98.56%, Vanilla=98.36%\n",
      "Epoch 280: Bayes=98.36%, Dropout=98.56%, Vanilla=98.36%\n",
      "Epoch 300: Bayes=98.24%, Dropout=98.56%, Vanilla=98.36%\n"
     ]
    }
   ],
   "source": [
    "epochs = 300\n",
    "accs = {'Bayes':[], 'Dropout':[], 'Vanilla':[]}\n",
    "\n",
    "for epoch in range(1, epochs+1):\n",
    "    train_bayesian(bayes_model, trainloader, opt_bayes, sched_bayes, samples=3)\n",
    "    train_standard(dropout_model, trainloader, opt_dropout, sched_dropout)\n",
    "    train_standard(vanilla_model, trainloader, opt_vanilla, sched_vanilla)\n",
    "\n",
    "    accs['Bayes'].append(evaluate(bayes_model, testloader, samples=3, bayesian=True))\n",
    "    accs['Dropout'].append(evaluate(dropout_model, testloader))\n",
    "    accs['Vanilla'].append(evaluate(vanilla_model, testloader))\n",
    "\n",
    "    if epoch % 20 == 0:\n",
    "        print(f\"Epoch {epoch:03d}: Bayes={accs['Bayes'][-1]:.2f}%, Dropout={accs['Dropout'][-1]:.2f}%, Vanilla={accs['Vanilla'][-1]:.2f}%\")"
   ]
  },
  {
   "cell_type": "markdown",
   "id": "a49e2eb1",
   "metadata": {},
   "source": [
    "# 4) Evaluation\n",
    "\n",
    "This plot visualizes the test accuracy trajectories of all methods over 300 epochs. It highlights the eventual superiority of the Bayesian approach as seen in Blundell et al. (2015). Analysts can observe differences in convergence speed and final performance."
   ]
  },
  {
   "cell_type": "code",
   "execution_count": 12,
   "id": "28a59555",
   "metadata": {},
   "outputs": [
    {
     "data": {
      "image/png": "[encoded data removed]",
      "text/plain": [
       "<Figure size 640x480 with 1 Axes>"
      ]
     },
     "metadata": {},
     "output_type": "display_data"
    }
   ],
   "source": [
    "plt.plot(range(1, epochs+1), accs['Bayes'], label='Bayes')\n",
    "plt.plot(range(1, epochs+1), accs['Dropout'], label='Dropout')\n",
    "plt.plot(range(1, epochs+1), accs['Vanilla'], label='Vanilla')\n",
    "plt.xlabel('Epoch'); plt.ylabel('Accuracy (%)')\n",
    "plt.title('Test Accuracy Comparison')\n",
    "plt.legend(); plt.grid(True); plt.show()"
   ]
  },
  {
   "cell_type": "markdown",
   "id": "5d55f715",
   "metadata": {},
   "source": [
    "This histogram displays the distribution of the posterior means μ of the first layer. A broad distribution indicates model flexibility, whereas narrow peaks suggest strong regularization. Such analysis corresponds to Figure 3 in the original paper."
   ]
  },
  {
   "cell_type": "code",
   "execution_count": 13,
   "id": "b8acd94f",
   "metadata": {},
   "outputs": [
    {
     "data": {
      "image/png": "[encoded data removed]",
      "text/plain": [
       "<Figure size 640x480 with 1 Axes>"
      ]
     },
     "metadata": {},
     "output_type": "display_data"
    }
   ],
   "source": [
    "weights = bayes_model.fc1.mu_weight.detach().cpu().numpy().flatten()\n",
    "plt.hist(weights, bins=100)\n",
    "plt.title('Histogram of Learned Weight Means (μ)')\n",
    "plt.xlabel('Weight value'); plt.ylabel('Frequency')\n",
    "plt.grid(True); plt.show()"
   ]
  },
  {
   "cell_type": "markdown",
   "id": "6c5b510d",
   "metadata": {},
   "source": [
    "### Explanation of Imported Libraries\n",
    "\n",
    "The following libraries are imported to facilitate the implementation of Bayesian Neural Networks and their evaluation:\n",
    "\n",
    "1. **PyTorch Libraries**:\n",
    "   - `torch`: The core PyTorch library for tensor operations and GPU acceleration.\n",
    "   - `torch.nn`: Provides modules for constructing neural network layers.\n",
    "   - `torch.nn.functional`: Contains functional implementations of neural network operations (e.g., activation functions).\n",
    "   - `torch.optim`: Includes optimization algorithms like Adam and SGD for training models.\n",
    "\n",
    "2. **TorchVision**:\n",
    "   - `torchvision`: A PyTorch library for computer vision tasks.\n",
    "   - `torchvision.transforms`: Provides tools for preprocessing and augmenting image datasets.\n",
    "\n",
    "3. **Numerical and Mathematical Libraries**:\n",
    "   - `numpy`: A library for numerical computations and array manipulations.\n",
    "   - `math`: Python's standard library for mathematical operations.\n",
    "\n",
    "4. **Visualization**:\n",
    "   - `matplotlib.pyplot`: A plotting library for creating visualizations such as graphs and charts.\n",
    "\n",
    "These libraries collectively enable the construction, training, and evaluation of neural networks, as well as the visualization of results and analysis of model behavior."
   ]
  }
 ],
 "metadata": {
  "kernelspec": {
   "display_name": "BiometricChallenge",
   "language": "python",
   "name": "python3"
  },
  "language_info": {
   "codemirror_mode": {
    "name": "ipython",
    "version": 3
   },
   "file_extension": ".py",
   "mimetype": "text/x-python",
   "name": "python",
   "nbconvert_exporter": "python",
   "pygments_lexer": "ipython3",
   "version": "3.9.6"
  }
 },
 "nbformat": 4,
 "nbformat_minor": 5
}
